{
  "nbformat": 4,
  "nbformat_minor": 0,
  "metadata": {
    "colab": {
      "provenance": [],
      "authorship_tag": "ABX9TyNOT28z7/FUYUewWBw0DGNc",
      "include_colab_link": true
    },
    "kernelspec": {
      "name": "python3",
      "display_name": "Python 3"
    },
    "language_info": {
      "name": "python"
    }
  },
  "cells": [
    {
      "cell_type": "markdown",
      "metadata": {
        "id": "view-in-github",
        "colab_type": "text"
      },
      "source": [
        "<a href=\"https://colab.research.google.com/github/Robertotheto/santader-dev-week/blob/main/SantanderDevWeek.ipynb\" target=\"_parent\"><img src=\"https://colab.research.google.com/assets/colab-badge.svg\" alt=\"Open In Colab\"/></a>"
      ]
    },
    {
      "cell_type": "markdown",
      "source": [
        "\n",
        "\n",
        "---\n",
        "\n",
        "Você recebeu uma planilha simples, em formato CSV ('SDW2023.csv'), com uma lista de IDs de usuário do banco:\n",
        "  ```\n",
        "  UserID\n",
        "  1\n",
        "  2\n",
        "  3\n",
        "  4\n",
        "  5\n",
        "  ```"
      ],
      "metadata": {
        "id": "NyUbgf2P2Koy"
      }
    },
    {
      "cell_type": "markdown",
      "source": [
        "# **Preparação**"
      ],
      "metadata": {
        "id": "GcJHc1mjWGRv"
      }
    },
    {
      "cell_type": "markdown",
      "source": [
        "Url para Api"
      ],
      "metadata": {
        "id": "U34M8YYf2VSu"
      }
    },
    {
      "cell_type": "code",
      "execution_count": 8,
      "metadata": {
        "id": "RjXk8dawV2pm"
      },
      "outputs": [],
      "source": [
        "sdw2023_api_url = 'https://sdw-2023-prd.up.railway.app'"
      ]
    },
    {
      "cell_type": "markdown",
      "source": [
        "# **Extract**"
      ],
      "metadata": {
        "id": "9rGoDWpRd94o"
      }
    },
    {
      "cell_type": "markdown",
      "source": [
        "Importar as bibliotecas necessárias e ler o arquivo .csv"
      ],
      "metadata": {
        "id": "2GW5yDaO2ayn"
      }
    },
    {
      "cell_type": "code",
      "source": [
        "import pandas as pd\n",
        "\n",
        "df = pd.read_csv('SDW2023.csv')\n",
        "user_ids = df['UserId'].tolist()\n",
        "print(user_ids)"
      ],
      "metadata": {
        "colab": {
          "base_uri": "https://localhost:8080/"
        },
        "id": "QJTnbOu2eFG9",
        "outputId": "4fccffae-c753-4203-a7a2-547a7b47e7ec"
      },
      "execution_count": 9,
      "outputs": [
        {
          "output_type": "stream",
          "name": "stdout",
          "text": [
            "[583, 584, 585]\n"
          ]
        }
      ]
    },
    {
      "cell_type": "markdown",
      "source": [
        "Realizar uma requisão para a api do tipo get informando os ids do usuários para obter a resposta."
      ],
      "metadata": {
        "id": "vLgCUaPq2oKY"
      }
    },
    {
      "cell_type": "code",
      "source": [
        "import requests\n",
        "import json\n",
        "\n",
        "def get_user(id):\n",
        "  response = requests.get(f'{sdw2023_api_url}/users/{id}')\n",
        "  return response.json() if response.status_code == 200 else None\n",
        "\n",
        "users = [user for id in user_ids if (user := get_user(id)) is not None]\n",
        "print(json.dumps(users, indent=2))"
      ],
      "metadata": {
        "id": "fvAvgJUSg1yQ"
      },
      "execution_count": null,
      "outputs": []
    },
    {
      "cell_type": "markdown",
      "source": [
        "# **Transform**"
      ],
      "metadata": {
        "id": "ZVmk-jnzk5w4"
      }
    },
    {
      "cell_type": "markdown",
      "source": [
        "Instalando a biblioteca da openai"
      ],
      "metadata": {
        "id": "t2kT50Xj2_cv"
      }
    },
    {
      "cell_type": "code",
      "source": [
        "!pip install openai"
      ],
      "metadata": {
        "id": "WI39iRTtk-oP"
      },
      "execution_count": null,
      "outputs": []
    },
    {
      "cell_type": "markdown",
      "source": [
        "Você deverá criar sua key na api da openai"
      ],
      "metadata": {
        "id": "W5oFrCg-3Hye"
      }
    },
    {
      "cell_type": "code",
      "source": [
        "openai_api_key = ''"
      ],
      "metadata": {
        "id": "8R9n9cg4lN82"
      },
      "execution_count": 17,
      "outputs": []
    },
    {
      "cell_type": "markdown",
      "source": [
        "Fazendo uma chamada a api da openai e passando no key, utilizando um modelo de chat fornecido pela propria api, em que retorna as mensagem solicitadas para cada usuário."
      ],
      "metadata": {
        "id": "aBIityjP3XM1"
      }
    },
    {
      "cell_type": "code",
      "source": [
        "import openai\n",
        "\n",
        "openai.api_key = openai_api_key\n",
        "\n",
        "def generate_ai_news(user):\n",
        "  completion = openai.ChatCompletion.create(\n",
        "  model=\"gpt-3.5-turbo\",\n",
        "  messages=[\n",
        "    {\n",
        "      \"role\": \"system\",\n",
        "      \"content\": \"Você é um especialista em marketing bancário.\"\n",
        "    },\n",
        "    {\n",
        "      \"role\": \"user\",\n",
        "      \"content\": f\"Crie uma mensagem para {user['name']} sobre a importância dos investimentos (máximo de 100 caracteres)\"\n",
        "    }\n",
        "  ]\n",
        ")\n",
        "  return completion.choices[0].message.content.strip('\\\"')\n",
        "\n",
        "for user in users:\n",
        "  news = generate_ai_news(user)\n",
        "  print(news)\n",
        "  user['news'].append({\n",
        "      \"icon\": \"https://digitalinnovationone.github.io/santander-dev-week-2023-api/icons/credit.svg\",\n",
        "      \"description\": news\n",
        "  })"
      ],
      "metadata": {
        "colab": {
          "base_uri": "https://localhost:8080/"
        },
        "id": "9JJjNXHOnXUb",
        "outputId": "8b0c85c4-6719-410c-d6ca-25b8308d462c"
      },
      "execution_count": 20,
      "outputs": [
        {
          "output_type": "stream",
          "name": "stdout",
          "text": [
            "Investir é a chave para a prosperidade, Batman!\n",
            "Invista agora e garanta um futuro poderoso\n",
            "Invista.O futuro agradece! #FlashInvestimentos\n"
          ]
        }
      ]
    },
    {
      "cell_type": "markdown",
      "source": [
        "# **Load**"
      ],
      "metadata": {
        "id": "HH7sl3v6wtIa"
      }
    },
    {
      "cell_type": "markdown",
      "source": [
        "Fazendo uma chamada a api do santander dev week do tipo put, para alterar os dados que recebemos da openai com sua respectivas mensagens."
      ],
      "metadata": {
        "id": "0oIha0m_3zqn"
      }
    },
    {
      "cell_type": "code",
      "source": [
        "def update_user(user):\n",
        "  response = requests.put(f\"{sdw2023_api_url}/users/{user['id']}\", json=user)\n",
        "  return True if response.status_code == 200 else False\n",
        "\n",
        "for user in users:\n",
        "  success = update_user(user)\n",
        "  print(f\"User {user['name']} updated? {success}\")"
      ],
      "metadata": {
        "colab": {
          "base_uri": "https://localhost:8080/"
        },
        "id": "jLUPWyW9wwZu",
        "outputId": "e6446db1-df7c-4867-839d-52d3a1b194cc"
      },
      "execution_count": 22,
      "outputs": [
        {
          "output_type": "stream",
          "name": "stdout",
          "text": [
            "User Batman- updated? True\n",
            "User SuperMan- updated? True\n",
            "User Flash- updated? True\n"
          ]
        }
      ]
    }
  ]
}